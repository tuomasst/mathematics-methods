{
 "cells": [
  {
   "cell_type": "code",
   "execution_count": 22,
   "metadata": {},
   "outputs": [
    {
     "name": "stdout",
     "output_type": "stream",
     "text": [
      "   fixed acidity  volatile acidity  citric acid  residual sugar  chlorides  \\\n",
      "0            7.0              0.27         0.36            20.7      0.045   \n",
      "1            6.3              0.30         0.34             1.6      0.049   \n",
      "2            8.1              0.28         0.40             6.9      0.050   \n",
      "3            7.2              0.23         0.32             8.5      0.058   \n",
      "4            7.2              0.23         0.32             8.5      0.058   \n",
      "5            8.1              0.28         0.40             6.9      0.050   \n",
      "6            6.2              0.32         0.16             7.0      0.045   \n",
      "7            7.0              0.27         0.36            20.7      0.045   \n",
      "8            6.3              0.30         0.34             1.6      0.049   \n",
      "9            8.1              0.22         0.43             1.5      0.044   \n",
      "\n",
      "   free sulfur dioxide  total sulfur dioxide  density    pH  sulphates  \\\n",
      "0                 45.0                 170.0   1.0010  3.00       0.45   \n",
      "1                 14.0                 132.0   0.9940  3.30       0.49   \n",
      "2                 30.0                  97.0   0.9951  3.26       0.44   \n",
      "3                 47.0                 186.0   0.9956  3.19       0.40   \n",
      "4                 47.0                 186.0   0.9956  3.19       0.40   \n",
      "5                 30.0                  97.0   0.9951  3.26       0.44   \n",
      "6                 30.0                 136.0   0.9949  3.18       0.47   \n",
      "7                 45.0                 170.0   1.0010  3.00       0.45   \n",
      "8                 14.0                 132.0   0.9940  3.30       0.49   \n",
      "9                 28.0                 129.0   0.9938  3.22       0.45   \n",
      "\n",
      "   alcohol  quality  \n",
      "0      8.8        6  \n",
      "1      9.5        6  \n",
      "2     10.1        6  \n",
      "3      9.9        6  \n",
      "4      9.9        6  \n",
      "5     10.1        6  \n",
      "6      9.6        6  \n",
      "7      8.8        6  \n",
      "8      9.5        6  \n",
      "9     11.0        6  \n"
     ]
    }
   ],
   "source": [
    "import numpy as np\n",
    "import pandas as pd\n",
    "from sklearn import linear_model\n",
    "from sklearn.metrics import mean_squared_error, r2_score\n",
    "from sklearn.preprocessing import StandardScaler\n",
    "import matplotlib.pyplot as plt\n",
    "from sklearn.model_selection import train_test_split \n",
    "\n",
    "df_orig = pd.read_csv('./winequality-white.csv', sep=';')\n",
    "print(df_orig.head(10))"
   ]
  },
  {
   "cell_type": "code",
   "execution_count": 24,
   "metadata": {},
   "outputs": [
    {
     "name": "stdout",
     "output_type": "stream",
     "text": [
      "Coefficients: [ 0.06242977 -0.21204823  0.00301856  0.46665253 -0.00610011  0.07168122\n",
      " -0.01371181 -0.50752757  0.11702101  0.0813738   0.26884011]\n",
      "Intercept: 1.7028861543364174e-14\n"
     ]
    }
   ],
   "source": [
    "# standardization\n",
    "scaler = StandardScaler()\n",
    "df = pd.DataFrame(scaler.fit_transform(df_orig))\n",
    "\n",
    "# split into explanatory and response variables. # chosen response variable: quality\n",
    "X = df.iloc[:,0:11]\n",
    "Y = df.iloc[:,11]\n",
    "\n",
    "# split dataset (80/20)\n",
    "X_train, X_test, Y_train, Y_test = train_test_split(X, Y, test_size=0.2, random_state=0)\n",
    "\n",
    "# build and fit model\n",
    "reg = linear_model.LinearRegression()\n",
    "reg.fit(X,Y)\n",
    "\n",
    "# output model\n",
    "print(\"Coefficients:\" ,reg.coef_)\n",
    "print(\"Intercept:\", reg.intercept_)"
   ]
  },
  {
   "cell_type": "code",
   "execution_count": 25,
   "metadata": {},
   "outputs": [],
   "source": [
    "# Regression equation (standardized dataset):\n",
    "# y = 0.06242977 * x1 + (-0.21204823 * x2) + 0.00301856 * x3 + (0.46665253 * x4) + \n",
    "# (-0.00610011 * x5) + 0.07168122 * x6 + (-0.01371181 * x7) + (-0.50752757 * x8) +\n",
    "# 0.11702101 * x9 + 0.0813738 * x10 + 0.26884011 * x11 + 1.7028861543364174e-14\n",
    "\n",
    "# Regression equation (non-standardized dataset):\n",
    "# y = 6.55199614e-02 * x1 + (-1.86317709e+00 * x2) + 2.20902007e-02 * x3 + (8.14828026e-02 * x4) + \n",
    "# (-2.47276537e-01 * x5) + 3.73276519e-03 * x6 + (-2.85747419e-04 * x7) + (-1.50284181e+02 * x8) +\n",
    "# 6.86343742e-01 * x9 + 6.31476473e-01 * x10 + 1.93475697e-01 * x11 + 150.19284248121068\n",
    "\n",
    "# Top five most useful variables:\n",
    "# 1: density\n",
    "# 2: residual sugar\n",
    "# 3: alcohol\n",
    "# 4: volatile acidity\n",
    "# 5: pH"
   ]
  },
  {
   "cell_type": "code",
   "execution_count": 27,
   "metadata": {},
   "outputs": [
    {
     "name": "stdout",
     "output_type": "stream",
     "text": [
      "MSE =  0.8298207567223476\n",
      "R2s =  0.2616765177332424\n"
     ]
    }
   ],
   "source": [
    "# use the model to compute predicted values for test set\n",
    "Y_pred = reg.predict(X_test)\n",
    "\n",
    "# compute error statistics\n",
    "mse = mean_squared_error(Y_test, Y_pred)\n",
    "r2s = r2_score(Y_test, Y_pred) \n",
    "print(\"MSE = \", mse)\n",
    "print(\"R2s = \", r2s)"
   ]
  },
  {
   "cell_type": "code",
   "execution_count": null,
   "metadata": {},
   "outputs": [],
   "source": []
  }
 ],
 "metadata": {
  "kernelspec": {
   "display_name": "Python 3",
   "language": "python",
   "name": "python3"
  },
  "language_info": {
   "codemirror_mode": {
    "name": "ipython",
    "version": 3
   },
   "file_extension": ".py",
   "mimetype": "text/x-python",
   "name": "python",
   "nbconvert_exporter": "python",
   "pygments_lexer": "ipython3",
   "version": "3.7.4"
  }
 },
 "nbformat": 4,
 "nbformat_minor": 2
}
