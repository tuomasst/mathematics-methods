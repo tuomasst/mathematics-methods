{
 "cells": [
  {
   "cell_type": "code",
   "execution_count": 65,
   "metadata": {},
   "outputs": [],
   "source": [
    "import pandas as pd\n",
    "import numpy as np\n",
    "from sklearn import tree\n",
    "import graphviz\n",
    "from sklearn.metrics import confusion_matrix\n",
    "from sklearn.metrics import classification_report\n",
    "from sklearn.model_selection import cross_val_score\n",
    "from IPython.display import IFrame\n",
    "\n",
    "df = pd.read_csv('./phishing.csv', sep=';')\n",
    "\n",
    "#df.dropna(axis=0, how='any', inplace=True)\n",
    "#df.describe()\n",
    "#df.head(10)\n",
    "#df.dtypes"
   ]
  },
  {
   "cell_type": "code",
   "execution_count": 5,
   "metadata": {},
   "outputs": [
    {
     "name": "stderr",
     "output_type": "stream",
     "text": [
      "C:\\Users\\Tuomas\\Anaconda3\\lib\\site-packages\\ipykernel_launcher.py:1: FutureWarning: The 'get_values' method is deprecated and will be removed in a future version. Use '.to_numpy()' or '.array' instead.\n",
      "  \"\"\"Entry point for launching an IPython kernel.\n"
     ]
    }
   ],
   "source": [
    "colnames = df.columns.get_values()\n",
    "# explanatory variables (dataframe)\n",
    "X = df.loc[:, 'having_IP_Address':'Statistical_report']\n",
    "\n",
    "# response variable (series)\n",
    "Y = df.loc[:, 'Result']"
   ]
  },
  {
   "cell_type": "code",
   "execution_count": 58,
   "metadata": {},
   "outputs": [
    {
     "name": "stdout",
     "output_type": "stream",
     "text": [
      "min_samples_leaf: 2001\n",
      "  Accuracy calculated from the training set = 0.889\n",
      "  Accuracy calculated using 10-fold cross validation = 0.889\n",
      "min_samples_leaf: 1501\n",
      "  Accuracy calculated from the training set = 0.889\n",
      "  Accuracy calculated using 10-fold cross validation = 0.889\n",
      "min_samples_leaf: 1001\n",
      "  Accuracy calculated from the training set = 0.889\n",
      "  Accuracy calculated using 10-fold cross validation = 0.889\n",
      "min_samples_leaf: 501\n",
      "  Accuracy calculated from the training set = 0.889\n",
      "  Accuracy calculated using 10-fold cross validation = 0.885\n",
      "min_samples_leaf: 1\n",
      "  Accuracy calculated from the training set = 0.908\n",
      "  Accuracy calculated using 10-fold cross validation = 0.904\n"
     ]
    }
   ],
   "source": [
    "# Experiment with min_samples_leaf to find the best model.\n",
    "\n",
    "# number of folds for cross-validation\n",
    "k = 10\n",
    "\n",
    "for leaf in range(2001,-1,-500):\n",
    "    print(\"min_samples_leaf: %d\" % leaf)\n",
    "    classifier = tree.DecisionTreeClassifier(max_depth=3, min_samples_leaf=leaf)\n",
    "    classifier.fit(X,Y)\n",
    "    Y_pred = classifier.predict(X)\n",
    "    cm = confusion_matrix(Y, Y_pred)\n",
    "    accuracy = (cm[0][0]+cm[1][1])/(cm[0][0]+cm[1][1]+cm[0][1]+cm[1][0])\n",
    "    print(\"  Accuracy calculated from the training set = %.3f\" % (accuracy))\n",
    "    \n",
    "    scores = cross_val_score(estimator=classifier,\n",
    "                        X=X,\n",
    "                        y=Y,\n",
    "                        scoring=\"accuracy\",\n",
    "                        cv=k)\n",
    "    print(\"  Accuracy calculated using %d-fold cross validation = %.3f\" % (k, scores.mean()))"
   ]
  },
  {
   "cell_type": "code",
   "execution_count": 63,
   "metadata": {},
   "outputs": [
    {
     "data": {
      "text/html": [
       "\n",
       "        <iframe\n",
       "            width=\"900\"\n",
       "            height=\"700\"\n",
       "            src=\"./phishing_tree.pdf\"\n",
       "            frameborder=\"0\"\n",
       "            allowfullscreen\n",
       "        ></iframe>\n",
       "        "
      ],
      "text/plain": [
       "<IPython.lib.display.IFrame at 0x1fbb1bb8948>"
      ]
     },
     "metadata": {},
     "output_type": "display_data"
    }
   ],
   "source": [
    "# Best value for min_samples_leaf was the smallest (1) when max depth of tree was 2 (to ensure a simple/compact tree)\n",
    "# Validation accuracy was 90.4 %\n",
    "\n",
    "# Visualize\n",
    "dot_data = tree.export_graphviz(classifier, out_file=None, feature_names=colnames[:30], class_names=['legitimate', 'phishing'])\n",
    "graph = graphviz.Source(dot_data) \n",
    "graph.render(\"phishing_tree\")\n",
    "display(IFrame(\"./phishing_tree.pdf\", width=900, height=700))"
   ]
  },
  {
   "cell_type": "code",
   "execution_count": 64,
   "metadata": {},
   "outputs": [
    {
     "name": "stdout",
     "output_type": "stream",
     "text": [
      "Confusion matrix:\n",
      " [[4425  473]\n",
      " [ 545 5612]]\n",
      "              precision    recall  f1-score   support\n",
      "\n",
      "  legitimate       0.89      0.90      0.90      4898\n",
      "    phishing       0.92      0.91      0.92      6157\n",
      "\n",
      "    accuracy                           0.91     11055\n",
      "   macro avg       0.91      0.91      0.91     11055\n",
      "weighted avg       0.91      0.91      0.91     11055\n",
      "\n"
     ]
    }
   ],
   "source": [
    "# output confusion matrix\n",
    "cm = confusion_matrix(Y, Y_pred)\n",
    "print(\"Confusion matrix:\\n\",cm)\n",
    "\n",
    "print(classification_report(Y, Y_pred, target_names=['legitimate', 'phishing']))"
   ]
  },
  {
   "cell_type": "markdown",
   "metadata": {},
   "source": [
    "# INSTRUCTIONS\n",
    "\n",
    "    IF website is using https - website a little more likely legitimate\n",
    "        AND IF <33 % of the < a > tags have different domain as website or are empty - website very likely legitimate\n",
    "        AND IF >33 % have different domain or empty\n",
    "            AND IF <17 % links are in < Meta > < Script > and < Link > tags - website very likely legitimate\n",
    "\n",
    "    IF website is not using https - website a little more likely phishing\n",
    "        AND IF <33 % of the < a > tags have different domain as website or are empty - website more likely legitimate\n",
    "            AND IF Domain Name Part Includes (-) Symbol - website likely legitimate\n",
    "        AND IF >33 % have different domain or empty -  website very likely phishing\n",
    "            AND IF website has no traffic or is not listed in Alexa database - very likely phishing\n",
    "            AND IF website has low/high traffic - still likely phishing\n"
   ]
  },
  {
   "cell_type": "code",
   "execution_count": null,
   "metadata": {},
   "outputs": [],
   "source": []
  }
 ],
 "metadata": {
  "kernelspec": {
   "display_name": "Python 3",
   "language": "python",
   "name": "python3"
  },
  "language_info": {
   "codemirror_mode": {
    "name": "ipython",
    "version": 3
   },
   "file_extension": ".py",
   "mimetype": "text/x-python",
   "name": "python",
   "nbconvert_exporter": "python",
   "pygments_lexer": "ipython3",
   "version": "3.7.4"
  }
 },
 "nbformat": 4,
 "nbformat_minor": 2
}
